{
 "cells": [
  {
   "cell_type": "code",
   "execution_count": 20,
   "id": "825853d0",
   "metadata": {},
   "outputs": [
    {
     "name": "stdout",
     "output_type": "stream",
     "text": [
      "Events sample:\n",
      "              Countries  Chemicals  General garbage  Metals  \\\n",
      "0        American Samoa        NaN              2.0     5.0   \n",
      "1          Cook Islands        NaN              4.0     NaN   \n",
      "2                  Fiji        1.0              6.0     5.0   \n",
      "3      French Polynesia        NaN              NaN     1.0   \n",
      "4  International Waters        3.0             16.0    50.0   \n",
      "\n",
      "   Oil splillages and leakages  Old fishing gear  \n",
      "0                          NaN               NaN  \n",
      "1                          NaN               NaN  \n",
      "2                          NaN              38.0  \n",
      "3                          NaN               1.0  \n",
      "4                          NaN              59.0   \n",
      "\n",
      "GeoJSON sample:\n",
      "   OBJECTID  Join_Count  TARGET_FID  obs_trip_n  pollution_  pollution1  \\\n",
      "0        21           1          21     12530.0      1822.0       359.0   \n",
      "1        22           1          22     12530.0      1822.0       360.0   \n",
      "2        23           1          23     12530.0      1822.0       361.0   \n",
      "3        24           1          24     12530.0      1823.0       362.0   \n",
      "4        45           1          45     12595.0      1843.0       385.0   \n",
      "\n",
      "   obs_form_v         inc_date  inc_time        inc_dtime  ... Note9 Note10  \\\n",
      "0      2007.0  14/01/2011 0:00     948.0  14/01/2011 9:48  ...  None   None   \n",
      "1      2007.0  14/01/2011 0:00     948.0  14/01/2011 9:48  ...  None   None   \n",
      "2      2007.0  14/01/2011 0:00     948.0  14/01/2011 9:48  ...  None   None   \n",
      "3      2007.0            40696    1817.0     40696.761806  ...  None   None   \n",
      "4      2007.0            40249     724.0     40249.308333  ...  None   None   \n",
      "\n",
      "  Note11     LAT_1      LONG EEZ_Local          Country ISO_3digit PACIOCEA  \\\n",
      "0   None -7.793150  167.2554       EEZ  Solomon Islands        SLB        1   \n",
      "1   None -7.793150  167.2554       EEZ  Solomon Islands        SLB        1   \n",
      "2   None -7.793150  167.2554       EEZ  Solomon Islands        SLB        1   \n",
      "3   None -5.576717  163.4930       EEZ  Solomon Islands        SLB        1   \n",
      "4   None -5.513500  161.4759       EEZ  Solomon Islands        SLB        1   \n",
      "\n",
      "                    geometry  \n",
      "0  POINT (167.2554 -7.79315)  \n",
      "1  POINT (167.2554 -7.79315)  \n",
      "2  POINT (167.2554 -7.79315)  \n",
      "3   POINT (163.493 -5.57672)  \n",
      "4   POINT (161.4759 -5.5135)  \n",
      "\n",
      "[5 rows x 43 columns] \n",
      "\n"
     ]
    }
   ],
   "source": [
    "# =====================================\n",
    "# DS3: Marine Pollution Visualization with Folium (Test Map)\n",
    "# =====================================\n",
    "\n",
    "import pandas as pd\n",
    "import geopandas as gpd\n",
    "import folium\n",
    "\n",
    "# -------------------------\n",
    "# 1. Load Data\n",
    "# -------------------------\n",
    "events = pd.read_excel(r\"D:\\workshop 2025\\project\\datasets\\ds3\\20180920_Marine_Pollution.xlsx\")\n",
    "geo = gpd.read_file(r\"D:\\workshop 2025\\project\\datasets\\ds3\\ENV_Marine_Pollution_Solomons.geojson\")\n",
    "\n",
    "print(\"Events sample:\")\n",
    "print(events.head(), \"\\n\")\n",
    "print(\"GeoJSON sample:\")\n",
    "print(geo.head(), \"\\n\")\n"
   ]
  },
  {
   "cell_type": "code",
   "execution_count": 21,
   "id": "1d6ccc1e",
   "metadata": {},
   "outputs": [
    {
     "name": "stdout",
     "output_type": "stream",
     "text": [
      "Impact Levels: ImpactLevel\n",
      "Unknown    20\n",
      "Name: count, dtype: int64\n"
     ]
    }
   ],
   "source": [
    "# -------------------------\n",
    "# 2. Preprocess Events\n",
    "# -------------------------\n",
    "# Create ImpactLevel based on Severity or fallback\n",
    "severity_col = \"Severity\" if \"Severity\" in events.columns else None\n",
    "pollutant_col = \"Pollutant\" if \"Pollutant\" in events.columns else None\n",
    "\n",
    "if severity_col:\n",
    "    def classify_impact(val):\n",
    "        if val > 70:\n",
    "            return \"High\"\n",
    "        elif val > 30:\n",
    "            return \"Moderate\"\n",
    "        else:\n",
    "            return \"Low\"\n",
    "    events[\"ImpactLevel\"] = events[severity_col].apply(classify_impact)\n",
    "else:\n",
    "    events[\"ImpactLevel\"] = \"Unknown\"\n",
    "\n",
    "print(\"Impact Levels:\", events[\"ImpactLevel\"].value_counts())\n"
   ]
  },
  {
   "cell_type": "code",
   "execution_count": 22,
   "id": "06ba5bff",
   "metadata": {},
   "outputs": [
    {
     "name": "stderr",
     "output_type": "stream",
     "text": [
      "C:\\Users\\User\\AppData\\Local\\Temp\\ipykernel_6980\\2941623538.py:4: UserWarning: Geometry is in a geographic CRS. Results from 'centroid' are likely incorrect. Use 'GeoSeries.to_crs()' to re-project geometries to a projected CRS before this operation.\n",
      "\n",
      "  center_lat = geo.geometry.centroid.y.mean()\n",
      "C:\\Users\\User\\AppData\\Local\\Temp\\ipykernel_6980\\2941623538.py:5: UserWarning: Geometry is in a geographic CRS. Results from 'centroid' are likely incorrect. Use 'GeoSeries.to_crs()' to re-project geometries to a projected CRS before this operation.\n",
      "\n",
      "  center_lon = geo.geometry.centroid.x.mean()\n"
     ]
    },
    {
     "data": {
      "text/plain": [
       "<folium.features.GeoJson at 0x232b969b950>"
      ]
     },
     "execution_count": 22,
     "metadata": {},
     "output_type": "execute_result"
    }
   ],
   "source": [
    "# -------------------------\n",
    "# 3. Initialize Map\n",
    "# -------------------------\n",
    "center_lat = geo.geometry.centroid.y.mean()\n",
    "center_lon = geo.geometry.centroid.x.mean()\n",
    "\n",
    "m_test = folium.Map(location=[center_lat, center_lon], zoom_start=6, tiles=\"OpenStreetMap\")\n",
    "\n",
    "# -------------------------\n",
    "# 4. Add GeoJSON Layer (Pollution Areas)\n",
    "# -------------------------\n",
    "folium.GeoJson(\n",
    "    geo,\n",
    "    name=\"Marine Pollution Zones\",\n",
    "    style_function=lambda x: {\n",
    "        \"fillColor\": \"#228B22\",  # green shade\n",
    "        \"color\": \"black\",\n",
    "        \"weight\": 1,\n",
    "        \"fillOpacity\": 0.3,\n",
    "    },\n",
    ").add_to(m_test)\n",
    "\n"
   ]
  },
  {
   "cell_type": "code",
   "execution_count": 23,
   "id": "f3a7f3ba",
   "metadata": {},
   "outputs": [],
   "source": [
    "# -------------------------\n",
    "# 5. Add Pollution Events using LAT_1 and LONG\n",
    "# -------------------------\n",
    "color_map = {\"Low\": \"green\", \"Moderate\": \"orange\", \"High\": \"red\", \"Unknown\": \"gray\"}\n",
    "\n",
    "lat_col = \"LAT_1\"\n",
    "lon_col = \"LONG\"\n",
    "\n",
    "for _, row in events.iterrows():\n",
    "    lat = row.get(lat_col)\n",
    "    lon = row.get(lon_col)\n",
    "    if pd.notna(lat) and pd.notna(lon):\n",
    "        folium.Circle(\n",
    "            location=[lat, lon],\n",
    "            radius=30000,  # adjust size (in meters)\n",
    "            color=color_map.get(row[\"ImpactLevel\"], \"blue\"),\n",
    "            fill=True,\n",
    "            fill_opacity=0.2,  # translucent\n",
    "            popup=f\"Impact: {row['ImpactLevel']}<br>Severity: {row.get('Severity','N/A')}\"\n",
    "        ).add_to(m_test)\n",
    "\n"
   ]
  },
  {
   "cell_type": "code",
   "execution_count": 24,
   "id": "c17d46cc",
   "metadata": {},
   "outputs": [
    {
     "name": "stdout",
     "output_type": "stream",
     "text": [
      "✅ Test map saved as marine_pollution_test_map.html — open this in your browser.\n"
     ]
    }
   ],
   "source": [
    "# -------------------------\n",
    "# 6. Add Layer Control\n",
    "# -------------------------\n",
    "folium.LayerControl().add_to(m_test)\n",
    "\n",
    "# -------------------------\n",
    "# 7. Save Map\n",
    "# -------------------------\n",
    "m_test.save(r\"D:\\workshop 2025\\project\\models\\model3\\marine_pollution_test_map.html\")\n",
    "print(\"✅ Test map saved as marine_pollution_test_map.html — open this in your browser.\")"
   ]
  },
  {
   "cell_type": "code",
   "execution_count": 25,
   "id": "77616694",
   "metadata": {},
   "outputs": [],
   "source": [
    "geo = geo.to_crs(epsg=4326)\n"
   ]
  }
 ],
 "metadata": {
  "kernelspec": {
   "display_name": "Python 3",
   "language": "python",
   "name": "python3"
  },
  "language_info": {
   "codemirror_mode": {
    "name": "ipython",
    "version": 3
   },
   "file_extension": ".py",
   "mimetype": "text/x-python",
   "name": "python",
   "nbconvert_exporter": "python",
   "pygments_lexer": "ipython3",
   "version": "3.13.7"
  }
 },
 "nbformat": 4,
 "nbformat_minor": 5
}

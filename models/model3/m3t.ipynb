{
 "cells": [
  {
   "cell_type": "code",
   "execution_count": null,
   "id": "6b232218",
   "metadata": {},
   "outputs": [],
   "source": [
    "import pandas as pd\n",
    "from sklearn.ensemble import RandomForestClassifier\n",
    "from sklearn.model_selection import train_test_split\n",
    "from sklearn.metrics import classification_report, confusion_matrix\n",
    "import joblib\n",
    "import os\n",
    "\n",
    "# File paths\n",
    "dataset_path = r\"D:\\workshop 2025\\project\\datasets\\ds3\\20180920_Marine_Pollution.xlsx\"\n",
    "save_model_path = r\"D:\\workshop 2025\\project\\models\\model3\\marine_model.pkl\"\n"
   ]
  },
  {
   "cell_type": "code",
   "execution_count": 7,
   "id": "d384ad8e",
   "metadata": {},
   "outputs": [],
   "source": [
    "# Load dataset\n",
    "df = pd.read_excel(dataset_path)\n",
    "df.columns = df.columns.str.strip()  # remove extra spaces\n",
    "\n",
    "# Identify pollution columns that exist in the dataframe\n",
    "expected_cols = ['Chemicals', 'General garbage', 'Metals', 'Oil spillage and leakages', 'Old fishing gear']\n",
    "pollution_cols_actual = [col for col in expected_cols if col in df.columns]\n",
    "\n",
    "# Ensure numeric and fill NaN\n",
    "df[pollution_cols_actual] = df[pollution_cols_actual].apply(pd.to_numeric, errors='coerce').fillna(0)\n",
    "\n",
    "# Compute Pollution_Score\n",
    "df['Pollution_Score'] = df[pollution_cols_actual].sum(axis=1)\n",
    "\n",
    "# Ensure all scores are numeric\n",
    "df['Pollution_Score'] = pd.to_numeric(df['Pollution_Score'], errors='coerce').fillna(0)\n",
    "\n",
    "# Create Risk_Level safely\n",
    "df['Risk_Level'] = pd.cut(df['Pollution_Score'], bins=[-1,50,150,1e9], labels=['Low','Moderate','High'])\n",
    "\n",
    "# Drop any rows with NaN in X or y\n",
    "X = df[pollution_cols_actual]\n",
    "y = df['Risk_Level']\n",
    "mask = X.notnull().all(axis=1) & y.notnull()\n",
    "X = X[mask]\n",
    "y = y[mask]\n"
   ]
  },
  {
   "cell_type": "code",
   "execution_count": 8,
   "id": "9ae3a7c9",
   "metadata": {},
   "outputs": [
    {
     "name": "stdout",
     "output_type": "stream",
     "text": [
      "Confusion Matrix:\n",
      " [[4]]\n",
      "\n",
      "Classification Report:\n",
      "               precision    recall  f1-score   support\n",
      "\n",
      "         Low       1.00      1.00      1.00         4\n",
      "\n",
      "    accuracy                           1.00         4\n",
      "   macro avg       1.00      1.00      1.00         4\n",
      "weighted avg       1.00      1.00      1.00         4\n",
      "\n",
      "DS3 model trained and saved at: D:\\workshop 2025\\project\\models\\model3\\marine_model.pkl\n"
     ]
    },
    {
     "name": "stderr",
     "output_type": "stream",
     "text": [
      "c:\\Users\\User\\AppData\\Local\\Programs\\Python\\Python313\\Lib\\site-packages\\sklearn\\metrics\\_classification.py:534: UserWarning: A single label was found in 'y_true' and 'y_pred'. For the confusion matrix to have the correct shape, use the 'labels' parameter to pass all known labels.\n",
      "  warnings.warn(\n"
     ]
    }
   ],
   "source": [
    "# Now train-test split\n",
    "X_train, X_test, y_train, y_test = train_test_split(X, y, test_size=0.2, random_state=42)\n",
    "\n",
    "# Train model\n",
    "rf_model = RandomForestClassifier(n_estimators=100, random_state=42)\n",
    "rf_model.fit(X_train, y_train)\n",
    "\n",
    "# Evaluate\n",
    "y_pred = rf_model.predict(X_test)\n",
    "print(\"Confusion Matrix:\\n\", confusion_matrix(y_test, y_pred))\n",
    "print(\"\\nClassification Report:\\n\", classification_report(y_test, y_pred))\n",
    "\n",
    "# Save model\n",
    "os.makedirs(os.path.dirname(save_model_path), exist_ok=True)\n",
    "joblib.dump(rf_model, save_model_path)\n",
    "print(f\"DS3 model trained and saved at: {save_model_path}\")\n"
   ]
  }
 ],
 "metadata": {
  "kernelspec": {
   "display_name": "Python 3",
   "language": "python",
   "name": "python3"
  },
  "language_info": {
   "codemirror_mode": {
    "name": "ipython",
    "version": 3
   },
   "file_extension": ".py",
   "mimetype": "text/x-python",
   "name": "python",
   "nbconvert_exporter": "python",
   "pygments_lexer": "ipython3",
   "version": "3.13.7"
  }
 },
 "nbformat": 4,
 "nbformat_minor": 5
}
